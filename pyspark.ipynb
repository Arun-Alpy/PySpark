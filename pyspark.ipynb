{
  "nbformat": 4,
  "nbformat_minor": 0,
  "metadata": {
    "colab": {
      "provenance": [],
      "toc_visible": true,
      "include_colab_link": true
    },
    "kernelspec": {
      "name": "python3",
      "display_name": "Python 3"
    },
    "language_info": {
      "name": "python"
    }
  },
  "cells": [
    {
      "cell_type": "markdown",
      "metadata": {
        "id": "view-in-github",
        "colab_type": "text"
      },
      "source": [
        "<a href=\"https://colab.research.google.com/github/Arun-Alpy/PySpark/blob/main/pyspark.ipynb\" target=\"_parent\"><img src=\"https://colab.research.google.com/assets/colab-badge.svg\" alt=\"Open In Colab\"/></a>"
      ]
    },
    {
      "cell_type": "markdown",
      "source": [
        "# Linux Basic"
      ],
      "metadata": {
        "id": "986lu8g8r2WP"
      }
    },
    {
      "cell_type": "code",
      "source": [
        "!git version"
      ],
      "metadata": {
        "colab": {
          "base_uri": "https://localhost:8080/"
        },
        "id": "61q37dhRr8Jk",
        "outputId": "f48240e0-97b8-4b6e-a029-fa51a81668a4"
      },
      "execution_count": 15,
      "outputs": [
        {
          "output_type": "stream",
          "name": "stdout",
          "text": [
            "git version 2.34.1\n"
          ]
        }
      ]
    },
    {
      "cell_type": "code",
      "source": [
        "print (\"PySpark\")"
      ],
      "metadata": {
        "colab": {
          "base_uri": "https://localhost:8080/"
        },
        "id": "J4dZh976rb5D",
        "outputId": "191f2d86-8a66-4f9c-dcc0-f39f2bc84d50"
      },
      "execution_count": null,
      "outputs": [
        {
          "output_type": "stream",
          "name": "stdout",
          "text": [
            "PySpark\n"
          ]
        }
      ]
    },
    {
      "cell_type": "code",
      "source": [
        "!whoami"
      ],
      "metadata": {
        "colab": {
          "base_uri": "https://localhost:8080/"
        },
        "id": "9L_VoRhTsH23",
        "outputId": "7c419625-3186-4e8b-fe38-13b551b7489d"
      },
      "execution_count": 16,
      "outputs": [
        {
          "output_type": "stream",
          "name": "stdout",
          "text": [
            "root\n"
          ]
        }
      ]
    },
    {
      "cell_type": "code",
      "source": [
        "!pwd"
      ],
      "metadata": {
        "colab": {
          "base_uri": "https://localhost:8080/"
        },
        "id": "dcBeT-HysI9J",
        "outputId": "87315690-4537-4582-f56a-d3623187e2af"
      },
      "execution_count": 17,
      "outputs": [
        {
          "output_type": "stream",
          "name": "stdout",
          "text": [
            "/content\n"
          ]
        }
      ]
    },
    {
      "cell_type": "markdown",
      "source": [
        "# PySpark Basics"
      ],
      "metadata": {
        "id": "uDeYUAqDt3sO"
      }
    },
    {
      "cell_type": "code",
      "source": [
        "!pip install pyspark"
      ],
      "metadata": {
        "colab": {
          "base_uri": "https://localhost:8080/"
        },
        "id": "IQEiYZm-t75M",
        "outputId": "2b19e863-c741-4489-f1ec-14bc7c271702"
      },
      "execution_count": 18,
      "outputs": [
        {
          "output_type": "stream",
          "name": "stdout",
          "text": [
            "Requirement already satisfied: pyspark in /usr/local/lib/python3.11/dist-packages (3.5.1)\n",
            "Requirement already satisfied: py4j==0.10.9.7 in /usr/local/lib/python3.11/dist-packages (from pyspark) (0.10.9.7)\n"
          ]
        }
      ]
    },
    {
      "cell_type": "code",
      "source": [
        "!pip show pyspark"
      ],
      "metadata": {
        "colab": {
          "base_uri": "https://localhost:8080/"
        },
        "id": "EfHl43rBt-YQ",
        "outputId": "57b30b88-12a3-4cfa-9a50-5159c4341488"
      },
      "execution_count": 19,
      "outputs": [
        {
          "output_type": "stream",
          "name": "stdout",
          "text": [
            "Name: pyspark\n",
            "Version: 3.5.1\n",
            "Summary: Apache Spark Python API\n",
            "Home-page: https://github.com/apache/spark/tree/master/python\n",
            "Author: Spark Developers\n",
            "Author-email: dev@spark.apache.org\n",
            "License: http://www.apache.org/licenses/LICENSE-2.0\n",
            "Location: /usr/local/lib/python3.11/dist-packages\n",
            "Requires: py4j\n",
            "Required-by: dataproc-spark-connect\n"
          ]
        }
      ]
    },
    {
      "cell_type": "code",
      "source": [
        "from pyspark.sql import SparkSession"
      ],
      "metadata": {
        "id": "VyuNOF37uE6M"
      },
      "execution_count": 1,
      "outputs": []
    },
    {
      "cell_type": "code",
      "source": [
        "spark=SparkSession.builder.appName('Basics').getOrCreate()"
      ],
      "metadata": {
        "id": "zQv93_studLv"
      },
      "execution_count": 2,
      "outputs": []
    },
    {
      "cell_type": "code",
      "source": [
        "#create dataframe\n",
        "data=[(\"Hello\",\"World\")]\n",
        "columns=[\"Word1\",\"Word2\"]\n",
        "df=spark.createDataFrame(data,columns)"
      ],
      "metadata": {
        "id": "KWkfIN3AvEyJ"
      },
      "execution_count": 25,
      "outputs": []
    },
    {
      "cell_type": "code",
      "source": [
        "df.show()"
      ],
      "metadata": {
        "colab": {
          "base_uri": "https://localhost:8080/"
        },
        "id": "iFokBlmzvoBp",
        "outputId": "dbfc5cfb-a083-45f2-c730-f58c031ee2af"
      },
      "execution_count": 27,
      "outputs": [
        {
          "output_type": "stream",
          "name": "stdout",
          "text": [
            "+-----+-----+\n",
            "|Word1|Word2|\n",
            "+-----+-----+\n",
            "|Hello|World|\n",
            "+-----+-----+\n",
            "\n"
          ]
        }
      ]
    },
    {
      "cell_type": "markdown",
      "source": [
        "## Basic Transformations and Actions"
      ],
      "metadata": {
        "id": "A8s0vOp4waQx"
      }
    },
    {
      "cell_type": "code",
      "source": [
        "columns=[\"Name\",\"Department\",\"Salary\"]\n",
        "data = [\n",
        "    (\"John\", \"Sales\", 3000),\n",
        "    (\"Jane\", \"Finance\", 4000),\n",
        "    (\"Mike\", \"Sales\", 3500),\n",
        "    (\"Alice\", \"Finance\", 3800),\n",
        "    (\"Bob\", \"IT\", 4500)\n",
        "]\n",
        "df = spark.createDataFrame(data, columns)\n",
        "df.show()"
      ],
      "metadata": {
        "colab": {
          "base_uri": "https://localhost:8080/"
        },
        "id": "BdiHpY4FweBa",
        "outputId": "11e79ff6-46fd-4735-b942-0222408b372b"
      },
      "execution_count": 3,
      "outputs": [
        {
          "output_type": "stream",
          "name": "stdout",
          "text": [
            "+-----+----------+------+\n",
            "| Name|Department|Salary|\n",
            "+-----+----------+------+\n",
            "| John|     Sales|  3000|\n",
            "| Jane|   Finance|  4000|\n",
            "| Mike|     Sales|  3500|\n",
            "|Alice|   Finance|  3800|\n",
            "|  Bob|        IT|  4500|\n",
            "+-----+----------+------+\n",
            "\n"
          ]
        }
      ]
    },
    {
      "cell_type": "code",
      "source": [
        "#filter:employee with salary >3500\n",
        "df_filtered=df.filter(df.Salary>3500)\n",
        "df_filtered.show()"
      ],
      "metadata": {
        "colab": {
          "base_uri": "https://localhost:8080/"
        },
        "id": "6J7NCVcKwvHc",
        "outputId": "928c2d71-6cc2-4a4e-873e-171b00281185"
      },
      "execution_count": 29,
      "outputs": [
        {
          "output_type": "stream",
          "name": "stdout",
          "text": [
            "+-----+----------+------+\n",
            "| Name|Department|Salary|\n",
            "+-----+----------+------+\n",
            "| Jane|   Finance|  4000|\n",
            "|Alice|   Finance|  3800|\n",
            "|  Bob|        IT|  4500|\n",
            "+-----+----------+------+\n",
            "\n"
          ]
        }
      ]
    },
    {
      "cell_type": "code",
      "source": [
        "#group by and aggregate: Avg salary by Department\n",
        "df_grouped=df.groupBy(\"Department\").agg({\"Salary\":\"avg\"})\n",
        "df_grouped.show()"
      ],
      "metadata": {
        "colab": {
          "base_uri": "https://localhost:8080/"
        },
        "id": "LG0l8lHYyD16",
        "outputId": "87dc1f65-0239-40b3-997f-5a3dbec4c63e"
      },
      "execution_count": 31,
      "outputs": [
        {
          "output_type": "stream",
          "name": "stdout",
          "text": [
            "+----------+-----------+\n",
            "|Department|avg(Salary)|\n",
            "+----------+-----------+\n",
            "|     Sales|     3250.0|\n",
            "|   Finance|     3900.0|\n",
            "|        IT|     4500.0|\n",
            "+----------+-----------+\n",
            "\n"
          ]
        }
      ]
    },
    {
      "cell_type": "code",
      "source": [
        "#group by and aggregate: Avg salary by Department\n",
        "df_grouped=df.groupBy(\"Department\").avg(\"Salary\")\n",
        "df_grouped.show()"
      ],
      "metadata": {
        "colab": {
          "base_uri": "https://localhost:8080/"
        },
        "id": "k8Y0hXWNy2UZ",
        "outputId": "9ad114c6-a8bb-49d3-e9f3-6c78e2f4b07c"
      },
      "execution_count": 32,
      "outputs": [
        {
          "output_type": "stream",
          "name": "stdout",
          "text": [
            "+----------+-----------+\n",
            "|Department|avg(Salary)|\n",
            "+----------+-----------+\n",
            "|     Sales|     3250.0|\n",
            "|   Finance|     3900.0|\n",
            "|        IT|     4500.0|\n",
            "+----------+-----------+\n",
            "\n"
          ]
        }
      ]
    },
    {
      "cell_type": "code",
      "source": [
        "#Add a new column: Salary with bonus (10%)\n",
        "from pyspark.sql.functions import col\n",
        "exp=col(\"Salary\")*1.1\n",
        "df_with_bonus=df.withColumn(\"Salary_10%_bonus\",exp)\n",
        "df_with_bonus.show()"
      ],
      "metadata": {
        "colab": {
          "base_uri": "https://localhost:8080/"
        },
        "id": "k_gPNwWozHXr",
        "outputId": "04b89cb1-491a-4474-b564-cdc9552aa666"
      },
      "execution_count": 33,
      "outputs": [
        {
          "output_type": "stream",
          "name": "stdout",
          "text": [
            "+-----+----------+------+------------------+\n",
            "| Name|Department|Salary|  Salary_10%_bonus|\n",
            "+-----+----------+------+------------------+\n",
            "| John|     Sales|  3000|3300.0000000000005|\n",
            "| Jane|   Finance|  4000|            4400.0|\n",
            "| Mike|     Sales|  3500|3850.0000000000005|\n",
            "|Alice|   Finance|  3800|            4180.0|\n",
            "|  Bob|        IT|  4500|            4950.0|\n",
            "+-----+----------+------+------------------+\n",
            "\n"
          ]
        }
      ]
    },
    {
      "cell_type": "code",
      "source": [
        "\n",
        "from pyspark.sql.functions import col,upper,lower,concat_ws,length,when\n",
        "\n",
        "df.show()"
      ],
      "metadata": {
        "colab": {
          "base_uri": "https://localhost:8080/"
        },
        "id": "flouxXdC0qtH",
        "outputId": "35feb05f-0bff-47b7-90c0-b5c18b0df635"
      },
      "execution_count": 34,
      "outputs": [
        {
          "output_type": "stream",
          "name": "stdout",
          "text": [
            "+-----+----------+------+\n",
            "| Name|Department|Salary|\n",
            "+-----+----------+------+\n",
            "| John|     Sales|  3000|\n",
            "| Jane|   Finance|  4000|\n",
            "| Mike|     Sales|  3500|\n",
            "|Alice|   Finance|  3800|\n",
            "|  Bob|        IT|  4500|\n",
            "+-----+----------+------+\n",
            "\n"
          ]
        }
      ]
    },
    {
      "cell_type": "code",
      "source": [
        "#Change case transformation\n",
        "df_upper=df.withColumn(\"Name_upper\",upper(col(\"Name\")))\n",
        "df_lower=df.withColumn(\"Name_lower\",lower(col(\"Name\")))\n",
        "df_upper.show()\n",
        "df_lower.show()"
      ],
      "metadata": {
        "colab": {
          "base_uri": "https://localhost:8080/"
        },
        "id": "3Xxyx1ye2SOQ",
        "outputId": "3b0e804a-3101-4cfd-b020-ee4ace80d4e2"
      },
      "execution_count": 35,
      "outputs": [
        {
          "output_type": "stream",
          "name": "stdout",
          "text": [
            "+-----+----------+------+----------+\n",
            "| Name|Department|Salary|Name_upper|\n",
            "+-----+----------+------+----------+\n",
            "| John|     Sales|  3000|      JOHN|\n",
            "| Jane|   Finance|  4000|      JANE|\n",
            "| Mike|     Sales|  3500|      MIKE|\n",
            "|Alice|   Finance|  3800|     ALICE|\n",
            "|  Bob|        IT|  4500|       BOB|\n",
            "+-----+----------+------+----------+\n",
            "\n",
            "+-----+----------+------+----------+\n",
            "| Name|Department|Salary|Name_lower|\n",
            "+-----+----------+------+----------+\n",
            "| John|     Sales|  3000|      john|\n",
            "| Jane|   Finance|  4000|      jane|\n",
            "| Mike|     Sales|  3500|      mike|\n",
            "|Alice|   Finance|  3800|     alice|\n",
            "|  Bob|        IT|  4500|       bob|\n",
            "+-----+----------+------+----------+\n",
            "\n"
          ]
        }
      ]
    },
    {
      "cell_type": "code",
      "source": [
        "#concatenate columns\n",
        "df_concat=df.withColumn(\"Full_Info\",concat_ws(\",\",\"Name\",\"Department\"))\n",
        "df_concat.show()"
      ],
      "metadata": {
        "colab": {
          "base_uri": "https://localhost:8080/"
        },
        "id": "fCIfAJ2a2o1C",
        "outputId": "6f7bcf50-5830-4e61-f2df-63749389111b"
      },
      "execution_count": 36,
      "outputs": [
        {
          "output_type": "stream",
          "name": "stdout",
          "text": [
            "+-----+----------+------+-------------+\n",
            "| Name|Department|Salary|    Full_Info|\n",
            "+-----+----------+------+-------------+\n",
            "| John|     Sales|  3000|   John,Sales|\n",
            "| Jane|   Finance|  4000| Jane,Finance|\n",
            "| Mike|     Sales|  3500|   Mike,Sales|\n",
            "|Alice|   Finance|  3800|Alice,Finance|\n",
            "|  Bob|        IT|  4500|       Bob,IT|\n",
            "+-----+----------+------+-------------+\n",
            "\n"
          ]
        }
      ]
    },
    {
      "cell_type": "code",
      "source": [
        "# string length of names in new DF\n",
        "df_length=df.withColumn(\"Name_length\",length(col(\"Name\")))\n",
        "df_length.show()"
      ],
      "metadata": {
        "colab": {
          "base_uri": "https://localhost:8080/"
        },
        "id": "1JBUwF8-3T9T",
        "outputId": "ce2c4f4d-815a-4333-bbc1-e0abae5dfd3f"
      },
      "execution_count": 37,
      "outputs": [
        {
          "output_type": "stream",
          "name": "stdout",
          "text": [
            "+-----+----------+------+-----------+\n",
            "| Name|Department|Salary|Name_length|\n",
            "+-----+----------+------+-----------+\n",
            "| John|     Sales|  3000|          4|\n",
            "| Jane|   Finance|  4000|          4|\n",
            "| Mike|     Sales|  3500|          4|\n",
            "|Alice|   Finance|  3800|          5|\n",
            "|  Bob|        IT|  4500|          3|\n",
            "+-----+----------+------+-----------+\n",
            "\n"
          ]
        }
      ]
    },
    {
      "cell_type": "code",
      "source": [
        "#conditional Columns(Salary category)\n",
        "df_conditional=df.withColumn(\"Salary_Category\",\n",
        "                              when(col(\"Salary\")>3500,\"High\")\n",
        "                              .when(col(\"Salary\")>3000,\"Medium\")\n",
        "                              .otherwise(\"Low\"))\n",
        "df_conditional.show()"
      ],
      "metadata": {
        "colab": {
          "base_uri": "https://localhost:8080/"
        },
        "id": "DMZAPdVP3sBG",
        "outputId": "c42be623-6ae0-4cd3-9ecf-ec50869d3414"
      },
      "execution_count": 38,
      "outputs": [
        {
          "output_type": "stream",
          "name": "stdout",
          "text": [
            "+-----+----------+------+---------------+\n",
            "| Name|Department|Salary|Salary_Category|\n",
            "+-----+----------+------+---------------+\n",
            "| John|     Sales|  3000|            Low|\n",
            "| Jane|   Finance|  4000|           High|\n",
            "| Mike|     Sales|  3500|         Medium|\n",
            "|Alice|   Finance|  3800|           High|\n",
            "|  Bob|        IT|  4500|           High|\n",
            "+-----+----------+------+---------------+\n",
            "\n"
          ]
        }
      ]
    },
    {
      "cell_type": "code",
      "source": [
        "# rename column (Salary to Base_Salary)\n",
        "df_renamed=df.withColumnRenamed(\"Salary\",\"Base_Salary\")\n",
        "df_renamed.show()"
      ],
      "metadata": {
        "colab": {
          "base_uri": "https://localhost:8080/"
        },
        "id": "aLkuVmEn4hLB",
        "outputId": "52f0c992-7b00-4c04-e1bf-952040b6a883"
      },
      "execution_count": 39,
      "outputs": [
        {
          "output_type": "stream",
          "name": "stdout",
          "text": [
            "+-----+----------+-----------+\n",
            "| Name|Department|Base_Salary|\n",
            "+-----+----------+-----------+\n",
            "| John|     Sales|       3000|\n",
            "| Jane|   Finance|       4000|\n",
            "| Mike|     Sales|       3500|\n",
            "|Alice|   Finance|       3800|\n",
            "|  Bob|        IT|       4500|\n",
            "+-----+----------+-----------+\n",
            "\n"
          ]
        }
      ]
    },
    {
      "cell_type": "code",
      "source": [
        "#group by department and count employees\n",
        "\n",
        "df.groupBy(\"Department\").count().show()"
      ],
      "metadata": {
        "colab": {
          "base_uri": "https://localhost:8080/"
        },
        "id": "4tR1MeXP59YC",
        "outputId": "f20336c1-31cb-44c7-f7de-3b0bbf4e8c35"
      },
      "execution_count": 4,
      "outputs": [
        {
          "output_type": "stream",
          "name": "stdout",
          "text": [
            "+----------+-----+\n",
            "|Department|count|\n",
            "+----------+-----+\n",
            "|     Sales|    2|\n",
            "|   Finance|    2|\n",
            "|        IT|    1|\n",
            "+----------+-----+\n",
            "\n"
          ]
        }
      ]
    },
    {
      "cell_type": "code",
      "source": [
        "df.groupBy(\"Department\").agg({\"Salary\":\"sum\"}).show()"
      ],
      "metadata": {
        "colab": {
          "base_uri": "https://localhost:8080/"
        },
        "id": "bs4eajZYOx9z",
        "outputId": "18b8022d-1466-4f59-e0f9-b7302bc11b9d"
      },
      "execution_count": 5,
      "outputs": [
        {
          "output_type": "stream",
          "name": "stdout",
          "text": [
            "+----------+-----------+\n",
            "|Department|sum(Salary)|\n",
            "+----------+-----------+\n",
            "|     Sales|       6500|\n",
            "|   Finance|       7800|\n",
            "|        IT|       4500|\n",
            "+----------+-----------+\n",
            "\n"
          ]
        }
      ]
    },
    {
      "cell_type": "code",
      "source": [
        "#group by department and calculate multiple Aggregations\n",
        "from pyspark.sql.functions import avg, max, min\n",
        "df.groupBy(\"Department\").agg(\n",
        "    avg(\"Salary\").alias(\"avg_salary\"),\n",
        "    max(\"Salary\").alias(\"max_salary\"),\n",
        "    min(\"Salary\").alias(\"min_salary\")\n",
        ").show()"
      ],
      "metadata": {
        "colab": {
          "base_uri": "https://localhost:8080/"
        },
        "id": "9eaOlG65PFvy",
        "outputId": "a7cbc5be-366b-40e9-c40d-359d570ff7aa"
      },
      "execution_count": 7,
      "outputs": [
        {
          "output_type": "stream",
          "name": "stdout",
          "text": [
            "+----------+----------+----------+----------+\n",
            "|Department|avg_salary|max_salary|min_salary|\n",
            "+----------+----------+----------+----------+\n",
            "|     Sales|    3250.0|      3500|      3000|\n",
            "|   Finance|    3900.0|      4000|      3800|\n",
            "|        IT|    4500.0|      4500|      4500|\n",
            "+----------+----------+----------+----------+\n",
            "\n"
          ]
        }
      ]
    },
    {
      "cell_type": "code",
      "source": [
        "# Create another DataFrame for department info\n",
        "dept_data = [\n",
        "    (\"Sales\", \"Building A\"),\n",
        "    (\"Finance\", \"Building B\"),\n",
        "    (\"IT\", \"Building C\")\n",
        "]\n",
        "dept_columns = [\"Department\", \"Location\"]"
      ],
      "metadata": {
        "id": "mobEtdZ6PxBS"
      },
      "execution_count": 8,
      "outputs": []
    },
    {
      "cell_type": "code",
      "source": [
        "df.show()"
      ],
      "metadata": {
        "colab": {
          "base_uri": "https://localhost:8080/"
        },
        "id": "eRUvLDlLRKlw",
        "outputId": "15f08a12-f4ef-4bd4-fcf4-a9c6bcf80bba"
      },
      "execution_count": 9,
      "outputs": [
        {
          "output_type": "stream",
          "name": "stdout",
          "text": [
            "+-----+----------+------+\n",
            "| Name|Department|Salary|\n",
            "+-----+----------+------+\n",
            "| John|     Sales|  3000|\n",
            "| Jane|   Finance|  4000|\n",
            "| Mike|     Sales|  3500|\n",
            "|Alice|   Finance|  3800|\n",
            "|  Bob|        IT|  4500|\n",
            "+-----+----------+------+\n",
            "\n"
          ]
        }
      ]
    },
    {
      "cell_type": "code",
      "source": [
        "dept_df=spark.createDataFrame(dept_data,dept_columns)\n",
        "dept_df.show()\n"
      ],
      "metadata": {
        "colab": {
          "base_uri": "https://localhost:8080/"
        },
        "id": "oYyG71NbSgZn",
        "outputId": "7b8704d9-dfdf-44fe-c667-7736fe295c03"
      },
      "execution_count": 10,
      "outputs": [
        {
          "output_type": "stream",
          "name": "stdout",
          "text": [
            "+----------+----------+\n",
            "|Department|  Location|\n",
            "+----------+----------+\n",
            "|     Sales|Building A|\n",
            "|   Finance|Building B|\n",
            "|        IT|Building C|\n",
            "+----------+----------+\n",
            "\n"
          ]
        }
      ]
    },
    {
      "cell_type": "code",
      "source": [
        "#join employees with department info\n",
        "\n",
        "joined_df=df.join(dept_df,on=\"Department\",how=\"inner\")\n",
        "joined_df.show()"
      ],
      "metadata": {
        "colab": {
          "base_uri": "https://localhost:8080/"
        },
        "id": "8rJ8UFU0S_Wu",
        "outputId": "e7fe3aa6-5858-41df-bd29-c971de621137"
      },
      "execution_count": 11,
      "outputs": [
        {
          "output_type": "stream",
          "name": "stdout",
          "text": [
            "+----------+-----+------+----------+\n",
            "|Department| Name|Salary|  Location|\n",
            "+----------+-----+------+----------+\n",
            "|   Finance| Jane|  4000|Building B|\n",
            "|   Finance|Alice|  3800|Building B|\n",
            "|        IT|  Bob|  4500|Building C|\n",
            "|     Sales| John|  3000|Building A|\n",
            "|     Sales| Mike|  3500|Building A|\n",
            "+----------+-----+------+----------+\n",
            "\n"
          ]
        }
      ]
    },
    {
      "cell_type": "code",
      "source": [
        "# Employee DataFrame\n",
        "emp_data = [\n",
        "    (1, \"John\", \"Sales\", 3000),\n",
        "    (2, \"Jane\", \"Finance\", 4000),\n",
        "    (3, \"Mike\", \"Sales\", 3500),\n",
        "    (4, \"Alice\", \"HR\", 3800),\n",
        "    (5, \"Bob\", \"IT\", 4500),\n",
        "    (6, \"Sam\", \"Support\", 3200)\n",
        "]\n",
        "emp_cols = [\"EmpID\", \"Name\", \"Department\", \"Salary\"]\n",
        "emp_df = spark.createDataFrame(emp_data, emp_cols)\n",
        "\n",
        "# Department DataFrame\n",
        "dept_data = [\n",
        "    (\"Sales\", \"Building A\"),\n",
        "    (\"Finance\", \"Building B\"),\n",
        "    (\"IT\", \"Building C\"),\n",
        "    (\"Admin\", \"Building D\")\n",
        "]\n",
        "dept_cols = [\"Department\", \"Location\"]\n",
        "dept_df = spark.createDataFrame(dept_data, dept_cols)\n",
        "\n",
        "# Display both\n",
        "emp_df.show()\n",
        "dept_df.show()"
      ],
      "metadata": {
        "colab": {
          "base_uri": "https://localhost:8080/"
        },
        "id": "ZORxzsNmTHGo",
        "outputId": "32d4db5c-c3e6-4d08-a83d-645a5c0f5c03"
      },
      "execution_count": 13,
      "outputs": [
        {
          "output_type": "stream",
          "name": "stdout",
          "text": [
            "+-----+-----+----------+------+\n",
            "|EmpID| Name|Department|Salary|\n",
            "+-----+-----+----------+------+\n",
            "|    1| John|     Sales|  3000|\n",
            "|    2| Jane|   Finance|  4000|\n",
            "|    3| Mike|     Sales|  3500|\n",
            "|    4|Alice|        HR|  3800|\n",
            "|    5|  Bob|        IT|  4500|\n",
            "|    6|  Sam|   Support|  3200|\n",
            "+-----+-----+----------+------+\n",
            "\n",
            "+----------+----------+\n",
            "|Department|  Location|\n",
            "+----------+----------+\n",
            "|     Sales|Building A|\n",
            "|   Finance|Building B|\n",
            "|        IT|Building C|\n",
            "|     Admin|Building D|\n",
            "+----------+----------+\n",
            "\n"
          ]
        }
      ]
    },
    {
      "cell_type": "code",
      "source": [
        "from pyspark.sql import SparkSession\n",
        "from pyspark.sql.functions import col, sum, avg, month\n"
      ],
      "metadata": {
        "id": "TVnInQwprVhM"
      },
      "execution_count": 14,
      "outputs": []
    },
    {
      "cell_type": "code",
      "source": [
        "spark = SparkSession.builder.appName(\"SalesAnalysis\").getOrCreate()\n",
        "\n"
      ],
      "metadata": {
        "id": "6Fu8MntlrrKC"
      },
      "execution_count": 15,
      "outputs": []
    },
    {
      "cell_type": "code",
      "source": [
        "sales_data = [\n",
        "    (1001, 101, 501, \"2025-07-10 08:23:00\", 3, 25.5),\n",
        "    (1002, 102, 502, \"2025-07-11 09:45:00\", 2, 15.0),\n",
        "    (1003, 103, 503, \"2025-07-12 10:15:00\", 1, 30.0),\n",
        "    (1004, 101, 504, \"2025-07-13 12:20:00\", 5, 25.5),\n",
        "    (1005, 105, 505, \"2025-07-14 14:35:00\", 10, 45.0),\n",
        "    (1006, 102, 506, \"2025-07-15 16:00:00\", 4, 15.0)\n",
        "]\n",
        "sales_columns = [\"sale_id\", \"product_id\", \"customer_id\", \"sale_date\", \"quantity\", \"price\"]\n",
        "sales_df = spark.createDataFrame(sales_data, sales_columns)"
      ],
      "metadata": {
        "id": "MClYQWC9rt-a"
      },
      "execution_count": 16,
      "outputs": []
    },
    {
      "cell_type": "code",
      "source": [
        "# Product Dataset\n",
        "product_data = [\n",
        "    (101, \"Widget A\", \"Gadgets\"),\n",
        "    (102, \"Widget B\", \"Gadgets\"),\n",
        "    (103, \"Widget C\", \"Electronics\"),\n",
        "    (104, \"Widget D\", \"Electronics\"),\n",
        "    (105, \"Widget E\", \"Home & Living\")\n",
        "]\n",
        "product_columns = [\"product_id\", \"product_name\", \"category\"]\n",
        "product_df = spark.createDataFrame(product_data, product_columns)\n"
      ],
      "metadata": {
        "id": "BaHJXsLYrxzy"
      },
      "execution_count": 17,
      "outputs": []
    },
    {
      "cell_type": "code",
      "source": [
        "customer_data = [\n",
        "    (501, \"Alice\", \"alice@example.com\", \"2025-05-20 10:10:00\"),\n",
        "    (502, \"Bob\", \"bob@example.com\", \"2025-06-15 14:00:00\"),\n",
        "    (503, \"Charlie\", \"charlie@example.com\", \"2025-04-05 09:50:00\"),\n",
        "    (504, \"David\", \"david@example.com\", \"2025-07-01 12:25:00\"),\n",
        "    (505, \"Emma\", \"emma@example.com\", \"2025-07-10 15:30:00\"),\n",
        "    (506, \"Frank\", \"frank@example.com\", \"2025-03-23 17:00:00\")\n",
        "]\n",
        "customer_columns = [\"customer_id\", \"customer_name\", \"email\", \"join_date\"]\n",
        "customer_df = spark.createDataFrame(customer_data, customer_columns)\n",
        ""
      ],
      "metadata": {
        "id": "TLRKueDPr2uZ"
      },
      "execution_count": 18,
      "outputs": []
    },
    {
      "cell_type": "code",
      "source": [
        "total_revenue_per_product = sales_df.withColumn(\"revenue\", col(\"quantity\") * col(\"price\")) \\\n",
        "    .groupBy(\"product_id\") \\\n",
        "    .agg(sum(\"revenue\").alias(\"total_revenue\"))\n",
        "\n",
        "total_revenue_per_product.show()"
      ],
      "metadata": {
        "id": "fQGnXyRdr5FP",
        "outputId": "91fb7e9f-896b-4a19-a84c-8d9e87477bf9",
        "colab": {
          "base_uri": "https://localhost:8080/"
        }
      },
      "execution_count": 19,
      "outputs": [
        {
          "output_type": "stream",
          "name": "stdout",
          "text": [
            "+----------+-------------+\n",
            "|product_id|total_revenue|\n",
            "+----------+-------------+\n",
            "|       103|         30.0|\n",
            "|       101|        204.0|\n",
            "|       102|         90.0|\n",
            "|       105|        450.0|\n",
            "+----------+-------------+\n",
            "\n"
          ]
        }
      ]
    },
    {
      "cell_type": "code",
      "source": [
        "total_quantity_per_customer = sales_df.groupBy(\"customer_id\") \\\n",
        "    .agg(sum(\"quantity\").alias(\"total_quantity\"))\n",
        "\n",
        "total_quantity_per_customer.show()\n",
        "\n",
        ""
      ],
      "metadata": {
        "id": "BMnzjYmBr8oD",
        "outputId": "4997747c-dcb9-453a-c9b1-ba009c5f5fc2",
        "colab": {
          "base_uri": "https://localhost:8080/"
        }
      },
      "execution_count": 20,
      "outputs": [
        {
          "output_type": "stream",
          "name": "stdout",
          "text": [
            "+-----------+--------------+\n",
            "|customer_id|total_quantity|\n",
            "+-----------+--------------+\n",
            "|        502|             2|\n",
            "|        501|             3|\n",
            "|        503|             1|\n",
            "|        504|             5|\n",
            "|        506|             4|\n",
            "|        505|            10|\n",
            "+-----------+--------------+\n",
            "\n"
          ]
        }
      ]
    },
    {
      "cell_type": "code",
      "source": [
        "average_revenue_per_customer = sales_df.withColumn(\"revenue\", col(\"quantity\") * col(\"price\")) \\\n",
        "    .groupBy(\"customer_id\") \\\n",
        "    .agg(avg(\"revenue\").alias(\"average_revenue\"))\n",
        "\n",
        "average_revenue_per_customer.show()"
      ],
      "metadata": {
        "id": "MjlBReBBr_wb",
        "outputId": "4cdb98e3-e06d-4814-a88e-4285586fcfe1",
        "colab": {
          "base_uri": "https://localhost:8080/"
        }
      },
      "execution_count": 21,
      "outputs": [
        {
          "output_type": "stream",
          "name": "stdout",
          "text": [
            "+-----------+---------------+\n",
            "|customer_id|average_revenue|\n",
            "+-----------+---------------+\n",
            "|        502|           30.0|\n",
            "|        501|           76.5|\n",
            "|        503|           30.0|\n",
            "|        504|          127.5|\n",
            "|        506|           60.0|\n",
            "|        505|          450.0|\n",
            "+-----------+---------------+\n",
            "\n"
          ]
        }
      ]
    },
    {
      "cell_type": "code",
      "source": [
        "monthly_sales_total = sales_df.withColumn(\"month\", month(col(\"sale_date\"))) \\\n",
        "    .withColumn(\"revenue\", col(\"quantity\") * col(\"price\")) \\\n",
        "    .groupBy(\"month\") \\\n",
        "    .agg(sum(\"revenue\").alias(\"total_monthly_revenue\"))\n",
        "\n",
        "monthly_sales_total.show()"
      ],
      "metadata": {
        "id": "KGvakoR_sCVP",
        "outputId": "88b31395-9679-4279-a1c1-6801c48a3524",
        "colab": {
          "base_uri": "https://localhost:8080/"
        }
      },
      "execution_count": 22,
      "outputs": [
        {
          "output_type": "stream",
          "name": "stdout",
          "text": [
            "+-----+---------------------+\n",
            "|month|total_monthly_revenue|\n",
            "+-----+---------------------+\n",
            "|    7|                774.0|\n",
            "+-----+---------------------+\n",
            "\n"
          ]
        }
      ]
    },
    {
      "cell_type": "code",
      "source": [
        "sales_with_category = sales_df.join(product_df, \"product_id\")\n",
        "sales_per_category = sales_with_category.groupBy(\"category\") \\\n",
        "    .count() \\\n",
        "    .withColumnRenamed(\"count\", \"total_sales\")\n",
        "\n",
        "sales_per_category.show()"
      ],
      "metadata": {
        "id": "Eqrlha5HsE3n",
        "outputId": "03162026-4270-4b4a-ca42-2ef5d9031e0e",
        "colab": {
          "base_uri": "https://localhost:8080/"
        }
      },
      "execution_count": 23,
      "outputs": [
        {
          "output_type": "stream",
          "name": "stdout",
          "text": [
            "+-------------+-----------+\n",
            "|     category|total_sales|\n",
            "+-------------+-----------+\n",
            "|  Electronics|          1|\n",
            "|      Gadgets|          4|\n",
            "|Home & Living|          1|\n",
            "+-------------+-----------+\n",
            "\n"
          ]
        }
      ]
    },
    {
      "cell_type": "code",
      "source": [
        "from pyspark.sql.functions import desc\n",
        "\n",
        "top_3_products = sales_df.withColumn(\"revenue\", col(\"quantity\") * col(\"price\")) \\\n",
        "    .groupBy(\"product_id\") \\\n",
        "    .agg(sum(\"revenue\").alias(\"total_revenue\")) \\\n",
        "    .orderBy(desc(\"total_revenue\")) \\\n",
        "    .limit(3)\n",
        "\n",
        "top_3_products.show()"
      ],
      "metadata": {
        "id": "8A9QWrMpsHt1",
        "outputId": "ba4d36ae-a055-4dd8-ab15-9eaaa79ed593",
        "colab": {
          "base_uri": "https://localhost:8080/"
        }
      },
      "execution_count": 24,
      "outputs": [
        {
          "output_type": "stream",
          "name": "stdout",
          "text": [
            "+----------+-------------+\n",
            "|product_id|total_revenue|\n",
            "+----------+-------------+\n",
            "|       105|        450.0|\n",
            "|       101|        204.0|\n",
            "|       102|         90.0|\n",
            "+----------+-------------+\n",
            "\n"
          ]
        }
      ]
    },
    {
      "cell_type": "code",
      "source": [
        "sales_with_product_info = sales_df.join(product_df, \"product_id\")\n",
        "sales_with_product_info.show()"
      ],
      "metadata": {
        "id": "fl5sV2wSsKDG",
        "outputId": "b88e6808-bde1-4d7b-ff92-44fa56508434",
        "colab": {
          "base_uri": "https://localhost:8080/"
        }
      },
      "execution_count": 25,
      "outputs": [
        {
          "output_type": "stream",
          "name": "stdout",
          "text": [
            "+----------+-------+-----------+-------------------+--------+-----+------------+-------------+\n",
            "|product_id|sale_id|customer_id|          sale_date|quantity|price|product_name|     category|\n",
            "+----------+-------+-----------+-------------------+--------+-----+------------+-------------+\n",
            "|       101|   1001|        501|2025-07-10 08:23:00|       3| 25.5|    Widget A|      Gadgets|\n",
            "|       101|   1004|        504|2025-07-13 12:20:00|       5| 25.5|    Widget A|      Gadgets|\n",
            "|       102|   1002|        502|2025-07-11 09:45:00|       2| 15.0|    Widget B|      Gadgets|\n",
            "|       102|   1006|        506|2025-07-15 16:00:00|       4| 15.0|    Widget B|      Gadgets|\n",
            "|       103|   1003|        503|2025-07-12 10:15:00|       1| 30.0|    Widget C|  Electronics|\n",
            "|       105|   1005|        505|2025-07-14 14:35:00|      10| 45.0|    Widget E|Home & Living|\n",
            "+----------+-------+-----------+-------------------+--------+-----+------------+-------------+\n",
            "\n"
          ]
        }
      ]
    },
    {
      "cell_type": "code",
      "source": [
        "sales_with_customer_info = sales_df.join(customer_df, \"customer_id\")\n",
        "sales_with_customer_info.show()"
      ],
      "metadata": {
        "id": "FBjla7tzsR6L",
        "outputId": "99195673-f8a6-4599-d2e8-357d92a98a61",
        "colab": {
          "base_uri": "https://localhost:8080/"
        }
      },
      "execution_count": 26,
      "outputs": [
        {
          "output_type": "stream",
          "name": "stdout",
          "text": [
            "+-----------+-------+----------+-------------------+--------+-----+-------------+-------------------+-------------------+\n",
            "|customer_id|sale_id|product_id|          sale_date|quantity|price|customer_name|              email|          join_date|\n",
            "+-----------+-------+----------+-------------------+--------+-----+-------------+-------------------+-------------------+\n",
            "|        501|   1001|       101|2025-07-10 08:23:00|       3| 25.5|        Alice|  alice@example.com|2025-05-20 10:10:00|\n",
            "|        502|   1002|       102|2025-07-11 09:45:00|       2| 15.0|          Bob|    bob@example.com|2025-06-15 14:00:00|\n",
            "|        503|   1003|       103|2025-07-12 10:15:00|       1| 30.0|      Charlie|charlie@example.com|2025-04-05 09:50:00|\n",
            "|        504|   1004|       101|2025-07-13 12:20:00|       5| 25.5|        David|  david@example.com|2025-07-01 12:25:00|\n",
            "|        505|   1005|       105|2025-07-14 14:35:00|      10| 45.0|         Emma|   emma@example.com|2025-07-10 15:30:00|\n",
            "|        506|   1006|       102|2025-07-15 16:00:00|       4| 15.0|        Frank|  frank@example.com|2025-03-23 17:00:00|\n",
            "+-----------+-------+----------+-------------------+--------+-----+-------------+-------------------+-------------------+\n",
            "\n"
          ]
        }
      ]
    },
    {
      "cell_type": "code",
      "source": [
        "inner_join_gadgets = sales_df.join(product_df, \"product_id\", \"inner\") \\\n",
        "    .filter(product_df.category == \"Gadgets\")\n",
        "\n",
        "inner_join_gadgets.show()"
      ],
      "metadata": {
        "id": "tfml48-zsT_t",
        "outputId": "3c76a798-e4ce-4a66-e4d9-570a5f5cb20f",
        "colab": {
          "base_uri": "https://localhost:8080/"
        }
      },
      "execution_count": 27,
      "outputs": [
        {
          "output_type": "stream",
          "name": "stdout",
          "text": [
            "+----------+-------+-----------+-------------------+--------+-----+------------+--------+\n",
            "|product_id|sale_id|customer_id|          sale_date|quantity|price|product_name|category|\n",
            "+----------+-------+-----------+-------------------+--------+-----+------------+--------+\n",
            "|       101|   1001|        501|2025-07-10 08:23:00|       3| 25.5|    Widget A| Gadgets|\n",
            "|       101|   1004|        504|2025-07-13 12:20:00|       5| 25.5|    Widget A| Gadgets|\n",
            "|       102|   1002|        502|2025-07-11 09:45:00|       2| 15.0|    Widget B| Gadgets|\n",
            "|       102|   1006|        506|2025-07-15 16:00:00|       4| 15.0|    Widget B| Gadgets|\n",
            "+----------+-------+-----------+-------------------+--------+-----+------------+--------+\n",
            "\n"
          ]
        }
      ]
    },
    {
      "cell_type": "code",
      "source": [
        "left_join_sales_product = sales_df.join(product_df, \"product_id\", \"left\")\n",
        "left_join_sales_product.show()"
      ],
      "metadata": {
        "id": "iP_itXKKsWFD",
        "outputId": "b008692d-d190-48b3-e67b-17199bd4acce",
        "colab": {
          "base_uri": "https://localhost:8080/"
        }
      },
      "execution_count": 28,
      "outputs": [
        {
          "output_type": "stream",
          "name": "stdout",
          "text": [
            "+----------+-------+-----------+-------------------+--------+-----+------------+-------------+\n",
            "|product_id|sale_id|customer_id|          sale_date|quantity|price|product_name|     category|\n",
            "+----------+-------+-----------+-------------------+--------+-----+------------+-------------+\n",
            "|       103|   1003|        503|2025-07-12 10:15:00|       1| 30.0|    Widget C|  Electronics|\n",
            "|       101|   1001|        501|2025-07-10 08:23:00|       3| 25.5|    Widget A|      Gadgets|\n",
            "|       102|   1002|        502|2025-07-11 09:45:00|       2| 15.0|    Widget B|      Gadgets|\n",
            "|       105|   1005|        505|2025-07-14 14:35:00|      10| 45.0|    Widget E|Home & Living|\n",
            "|       101|   1004|        504|2025-07-13 12:20:00|       5| 25.5|    Widget A|      Gadgets|\n",
            "|       102|   1006|        506|2025-07-15 16:00:00|       4| 15.0|    Widget B|      Gadgets|\n",
            "+----------+-------+-----------+-------------------+--------+-----+------------+-------------+\n",
            "\n"
          ]
        }
      ]
    },
    {
      "cell_type": "code",
      "source": [
        "from pyspark.sql.functions import col\n",
        "\n",
        "sales_alias1 = sales_df.alias(\"s1\")\n",
        "sales_alias2 = sales_df.alias(\"s2\")\n",
        "\n",
        "self_join_df = sales_alias1.join(sales_alias2, col(\"s1.product_id\") == col(\"s2.product_id\")) \\\n",
        "    .filter(col(\"s1.sale_id\") < col(\"s2.sale_id\"))\n",
        "\n",
        "self_join_df.select(\"s1.product_id\", \"s1.sale_date\", \"s2.sale_date\").show()"
      ],
      "metadata": {
        "id": "zy-hzeNKsYE_",
        "outputId": "a840552f-ee7e-4ee1-fdec-a4028e281d85",
        "colab": {
          "base_uri": "https://localhost:8080/"
        }
      },
      "execution_count": 29,
      "outputs": [
        {
          "output_type": "stream",
          "name": "stdout",
          "text": [
            "+----------+-------------------+-------------------+\n",
            "|product_id|          sale_date|          sale_date|\n",
            "+----------+-------------------+-------------------+\n",
            "|       101|2025-07-10 08:23:00|2025-07-13 12:20:00|\n",
            "|       102|2025-07-11 09:45:00|2025-07-15 16:00:00|\n",
            "+----------+-------------------+-------------------+\n",
            "\n"
          ]
        }
      ]
    },
    {
      "cell_type": "code",
      "source": [
        "full_outer_join_sales_product = sales_df.join(product_df, \"product_id\", \"full\")\n",
        "full_outer_join_sales_product.show()\n"
      ],
      "metadata": {
        "id": "RDq67UiFsbOw",
        "outputId": "b0f0c1e0-fef4-448c-b520-c3c980780a59",
        "colab": {
          "base_uri": "https://localhost:8080/"
        }
      },
      "execution_count": 30,
      "outputs": [
        {
          "output_type": "stream",
          "name": "stdout",
          "text": [
            "+----------+-------+-----------+-------------------+--------+-----+------------+-------------+\n",
            "|product_id|sale_id|customer_id|          sale_date|quantity|price|product_name|     category|\n",
            "+----------+-------+-----------+-------------------+--------+-----+------------+-------------+\n",
            "|       101|   1001|        501|2025-07-10 08:23:00|       3| 25.5|    Widget A|      Gadgets|\n",
            "|       101|   1004|        504|2025-07-13 12:20:00|       5| 25.5|    Widget A|      Gadgets|\n",
            "|       102|   1002|        502|2025-07-11 09:45:00|       2| 15.0|    Widget B|      Gadgets|\n",
            "|       102|   1006|        506|2025-07-15 16:00:00|       4| 15.0|    Widget B|      Gadgets|\n",
            "|       103|   1003|        503|2025-07-12 10:15:00|       1| 30.0|    Widget C|  Electronics|\n",
            "|       104|   NULL|       NULL|               NULL|    NULL| NULL|    Widget D|  Electronics|\n",
            "|       105|   1005|        505|2025-07-14 14:35:00|      10| 45.0|    Widget E|Home & Living|\n",
            "+----------+-------+-----------+-------------------+--------+-----+------------+-------------+\n",
            "\n"
          ]
        }
      ]
    },
    {
      "cell_type": "code",
      "source": [
        "complete_df = sales_df.join(product_df, \"product_id\") \\\n",
        "    .join(customer_df, \"customer_id\")\n",
        "\n",
        "complete_df.show()"
      ],
      "metadata": {
        "id": "j1usbks8seET",
        "outputId": "2643bd56-da00-40f1-f8d0-68d6dd33dac1",
        "colab": {
          "base_uri": "https://localhost:8080/"
        }
      },
      "execution_count": 31,
      "outputs": [
        {
          "output_type": "stream",
          "name": "stdout",
          "text": [
            "+-----------+----------+-------+-------------------+--------+-----+------------+-------------+-------------+-------------------+-------------------+\n",
            "|customer_id|product_id|sale_id|          sale_date|quantity|price|product_name|     category|customer_name|              email|          join_date|\n",
            "+-----------+----------+-------+-------------------+--------+-----+------------+-------------+-------------+-------------------+-------------------+\n",
            "|        502|       102|   1002|2025-07-11 09:45:00|       2| 15.0|    Widget B|      Gadgets|          Bob|    bob@example.com|2025-06-15 14:00:00|\n",
            "|        501|       101|   1001|2025-07-10 08:23:00|       3| 25.5|    Widget A|      Gadgets|        Alice|  alice@example.com|2025-05-20 10:10:00|\n",
            "|        503|       103|   1003|2025-07-12 10:15:00|       1| 30.0|    Widget C|  Electronics|      Charlie|charlie@example.com|2025-04-05 09:50:00|\n",
            "|        504|       101|   1004|2025-07-13 12:20:00|       5| 25.5|    Widget A|      Gadgets|        David|  david@example.com|2025-07-01 12:25:00|\n",
            "|        506|       102|   1006|2025-07-15 16:00:00|       4| 15.0|    Widget B|      Gadgets|        Frank|  frank@example.com|2025-03-23 17:00:00|\n",
            "|        505|       105|   1005|2025-07-14 14:35:00|      10| 45.0|    Widget E|Home & Living|         Emma|   emma@example.com|2025-07-10 15:30:00|\n",
            "+-----------+----------+-------+-------------------+--------+-----+------------+-------------+-------------+-------------------+-------------------+\n",
            "\n"
          ]
        }
      ]
    },
    {
      "cell_type": "code",
      "source": [
        "from pyspark.sql.functions import col\n",
        "\n",
        "filtered_sales_df = sales_df.filter(col(\"sale_date\").between(\"2025-07-10\", \"2025-07-15\"))\n",
        "filtered_sales_df.show()"
      ],
      "metadata": {
        "id": "ZPqJtFbAsgIu",
        "outputId": "b09a3aec-eb50-43d8-bf0a-e4ae3c7ed19f",
        "colab": {
          "base_uri": "https://localhost:8080/"
        }
      },
      "execution_count": 32,
      "outputs": [
        {
          "output_type": "stream",
          "name": "stdout",
          "text": [
            "+-------+----------+-----------+-------------------+--------+-----+\n",
            "|sale_id|product_id|customer_id|          sale_date|quantity|price|\n",
            "+-------+----------+-----------+-------------------+--------+-----+\n",
            "|   1001|       101|        501|2025-07-10 08:23:00|       3| 25.5|\n",
            "|   1002|       102|        502|2025-07-11 09:45:00|       2| 15.0|\n",
            "|   1003|       103|        503|2025-07-12 10:15:00|       1| 30.0|\n",
            "|   1004|       101|        504|2025-07-13 12:20:00|       5| 25.5|\n",
            "|   1005|       105|        505|2025-07-14 14:35:00|      10| 45.0|\n",
            "+-------+----------+-----------+-------------------+--------+-----+\n",
            "\n"
          ]
        }
      ]
    },
    {
      "cell_type": "code",
      "source": [
        "from pyspark.sql.functions import desc\n",
        "\n",
        "top_5_customers = sales_df.withColumn(\"total_spend\", col(\"quantity\") * col(\"price\")) \\\n",
        "    .join(customer_df, \"customer_id\") \\\n",
        "    .groupBy(\"customer_id\", \"customer_name\") \\\n",
        "    .agg(sum(\"total_spend\").alias(\"total_spending\")) \\\n",
        "    .orderBy(desc(\"total_spending\")) \\\n",
        "    .limit(5)\n",
        "\n",
        "top_5_customers.show()"
      ],
      "metadata": {
        "id": "nhaF2CcGsirj",
        "outputId": "87c3df9f-3441-4dd6-ef8e-d1faeec6b0d0",
        "colab": {
          "base_uri": "https://localhost:8080/"
        }
      },
      "execution_count": 33,
      "outputs": [
        {
          "output_type": "stream",
          "name": "stdout",
          "text": [
            "+-----------+-------------+--------------+\n",
            "|customer_id|customer_name|total_spending|\n",
            "+-----------+-------------+--------------+\n",
            "|        505|         Emma|         450.0|\n",
            "|        504|        David|         127.5|\n",
            "|        501|        Alice|          76.5|\n",
            "|        506|        Frank|          60.0|\n",
            "|        502|          Bob|          30.0|\n",
            "+-----------+-------------+--------------+\n",
            "\n"
          ]
        }
      ]
    },
    {
      "cell_type": "code",
      "source": [
        "from pyspark.sql.functions import when\n",
        "\n",
        "customer_spending = sales_df.withColumn(\"total_spend\", col(\"quantity\") * col(\"price\")) \\\n",
        "    .join(customer_df, \"customer_id\") \\\n",
        "    .groupBy(\"customer_id\", \"customer_name\") \\\n",
        "    .agg(sum(\"total_spend\").alias(\"total_spending\"))\n",
        "\n",
        "categorized_customers = customer_spending.withColumn(\"spending_category\",\n",
        "    when(col(\"total_spending\") < 100, \"Low\")\n",
        "    .when((col(\"total_spending\") >= 100) & (col(\"total_spending\") <= 300), \"Medium\")\n",
        "    .otherwise(\"High\")\n",
        ")\n",
        "\n",
        "categorized_customers.show()"
      ],
      "metadata": {
        "id": "mSYkgcNlslFZ",
        "outputId": "bed9aeef-1d9e-4176-9679-a32e0a92d464",
        "colab": {
          "base_uri": "https://localhost:8080/"
        }
      },
      "execution_count": 34,
      "outputs": [
        {
          "output_type": "stream",
          "name": "stdout",
          "text": [
            "+-----------+-------------+--------------+-----------------+\n",
            "|customer_id|customer_name|total_spending|spending_category|\n",
            "+-----------+-------------+--------------+-----------------+\n",
            "|        501|        Alice|          76.5|              Low|\n",
            "|        502|          Bob|          30.0|              Low|\n",
            "|        503|      Charlie|          30.0|              Low|\n",
            "|        504|        David|         127.5|           Medium|\n",
            "|        505|         Emma|         450.0|             High|\n",
            "|        506|        Frank|          60.0|              Low|\n",
            "+-----------+-------------+--------------+-----------------+\n",
            "\n"
          ]
        }
      ]
    },
    {
      "cell_type": "code",
      "source": [
        "from pyspark.sql.functions import min, max\n",
        "\n",
        "customer_purchase_dates = sales_df.groupBy(\"customer_id\") \\\n",
        "    .agg(\n",
        "        min(\"sale_date\").alias(\"first_purchase_date\"),\n",
        "        max(\"sale_date\").alias(\"last_purchase_date\")\n",
        "    )\n",
        "\n",
        "customer_purchase_dates_with_names = customer_purchase_dates.join(customer_df, \"customer_id\") \\\n",
        "    .select(\"customer_id\", \"customer_name\", \"first_purchase_date\", \"last_purchase_date\")\n",
        "\n",
        "customer_purchase_dates_with_names.show()"
      ],
      "metadata": {
        "id": "bUhe62bQsniW",
        "outputId": "63e4bae7-c344-4359-ca84-027df305c106",
        "colab": {
          "base_uri": "https://localhost:8080/"
        }
      },
      "execution_count": 35,
      "outputs": [
        {
          "output_type": "stream",
          "name": "stdout",
          "text": [
            "+-----------+-------------+-------------------+-------------------+\n",
            "|customer_id|customer_name|first_purchase_date| last_purchase_date|\n",
            "+-----------+-------------+-------------------+-------------------+\n",
            "|        502|          Bob|2025-07-11 09:45:00|2025-07-11 09:45:00|\n",
            "|        501|        Alice|2025-07-10 08:23:00|2025-07-10 08:23:00|\n",
            "|        503|      Charlie|2025-07-12 10:15:00|2025-07-12 10:15:00|\n",
            "|        504|        David|2025-07-13 12:20:00|2025-07-13 12:20:00|\n",
            "|        506|        Frank|2025-07-15 16:00:00|2025-07-15 16:00:00|\n",
            "|        505|         Emma|2025-07-14 14:35:00|2025-07-14 14:35:00|\n",
            "+-----------+-------------+-------------------+-------------------+\n",
            "\n"
          ]
        }
      ]
    },
    {
      "cell_type": "code",
      "source": [
        "from pyspark.sql.functions import max as max_\n",
        "\n",
        "# Find the most recent sale date in the entire dataset\n",
        "most_recent_date = sales_df.select(max_(\"sale_date\")).first()[0]\n",
        "print(f\"Most recent sale date: {most_recent_date}\")\n",
        "\n",
        "from pyspark.sql.functions import to_date, lit, datediff\n",
        "\n",
        "# Calculate the date 30 days before the most recent date\n",
        "thirty_days_before = sales_df.withColumn(\"date\", to_date(lit(most_recent_date))) \\\n",
        "    .selectExpr(\"date_sub(date, 30) as cutoff_date\").first().cutoff_date\n",
        "\n",
        "print(f\"30-day cutoff date: {thirty_days_before}\")\n",
        "\n",
        "# Find the last purchase date for each customer\n",
        "customer_last_purchase = sales_df.groupBy(\"customer_id\") \\\n",
        "    .agg(max_(\"sale_date\").alias(\"last_purchase_date\"))\n",
        "\n",
        "# Find customers whose last purchase was before the 30-day cutoff\n",
        "churned_customers = customer_last_purchase.filter(col(\"last_purchase_date\") < lit(thirty_days_before))\n",
        "\n",
        "churned_customers_with_names = churned_customers.join(customer_df, \"customer_id\") \\\n",
        "    .select(\"customer_id\", \"customer_name\", \"last_purchase_date\")\n",
        "\n",
        "churned_customers_with_names.show()"
      ],
      "metadata": {
        "id": "B6Dh7vAqsqRk",
        "outputId": "8f56563b-7587-4b98-ca72-ff703476aa9f",
        "colab": {
          "base_uri": "https://localhost:8080/"
        }
      },
      "execution_count": 36,
      "outputs": [
        {
          "output_type": "stream",
          "name": "stdout",
          "text": [
            "Most recent sale date: 2025-07-15 16:00:00\n",
            "30-day cutoff date: 2025-06-15\n",
            "+-----------+-------------+------------------+\n",
            "|customer_id|customer_name|last_purchase_date|\n",
            "+-----------+-------------+------------------+\n",
            "+-----------+-------------+------------------+\n",
            "\n"
          ]
        }
      ]
    },
    {
      "cell_type": "code",
      "source": [],
      "metadata": {
        "id": "3Rjf0xTrsvYi"
      },
      "execution_count": null,
      "outputs": []
    }
  ]
}